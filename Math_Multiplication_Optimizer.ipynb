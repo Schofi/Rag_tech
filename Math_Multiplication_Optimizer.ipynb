{
  "nbformat": 4,
  "nbformat_minor": 0,
  "metadata": {
    "colab": {
      "provenance": [],
      "toc_visible": true,
      "authorship_tag": "ABX9TyPJ7uTC2SPfm7KVf1U3SYBO"
    },
    "kernelspec": {
      "name": "python3",
      "display_name": "Python 3"
    },
    "language_info": {
      "name": "python"
    }
  },
  "cells": [
    {
      "cell_type": "code",
      "execution_count": null,
      "metadata": {
        "colab": {
          "base_uri": "https://localhost:8080/"
        },
        "id": "cJXsMPusl_eZ",
        "outputId": "204496dd-c9cd-4b69-d5e1-2ed3efdf8c13"
      },
      "outputs": [
        {
          "output_type": "stream",
          "name": "stdout",
          "text": [
            "Requirement already satisfied: dspy in /usr/local/lib/python3.11/dist-packages (2.6.27)\n",
            "Requirement already satisfied: backoff>=2.2 in /usr/local/lib/python3.11/dist-packages (from dspy) (2.2.1)\n",
            "Requirement already satisfied: joblib~=1.3 in /usr/local/lib/python3.11/dist-packages (from dspy) (1.5.1)\n",
            "Requirement already satisfied: openai>=0.28.1 in /usr/local/lib/python3.11/dist-packages (from dspy) (1.84.0)\n",
            "Requirement already satisfied: pandas>=2.1.1 in /usr/local/lib/python3.11/dist-packages (from dspy) (2.2.2)\n",
            "Requirement already satisfied: regex>=2023.10.3 in /usr/local/lib/python3.11/dist-packages (from dspy) (2024.11.6)\n",
            "Requirement already satisfied: ujson>=5.8.0 in /usr/local/lib/python3.11/dist-packages (from dspy) (5.10.0)\n",
            "Requirement already satisfied: tqdm>=4.66.1 in /usr/local/lib/python3.11/dist-packages (from dspy) (4.67.1)\n",
            "Requirement already satisfied: datasets>=2.14.6 in /usr/local/lib/python3.11/dist-packages (from dspy) (3.6.0)\n",
            "Requirement already satisfied: requests>=2.31.0 in /usr/local/lib/python3.11/dist-packages (from dspy) (2.32.3)\n",
            "Requirement already satisfied: optuna>=3.4.0 in /usr/local/lib/python3.11/dist-packages (from dspy) (4.3.0)\n",
            "Requirement already satisfied: pydantic>=2.0 in /usr/local/lib/python3.11/dist-packages (from dspy) (2.11.5)\n",
            "Requirement already satisfied: magicattr>=0.1.6 in /usr/local/lib/python3.11/dist-packages (from dspy) (0.1.6)\n",
            "Requirement already satisfied: litellm>=1.60.3 in /usr/local/lib/python3.11/dist-packages (from dspy) (1.72.4)\n",
            "Requirement already satisfied: diskcache>=5.6.0 in /usr/local/lib/python3.11/dist-packages (from dspy) (5.6.3)\n",
            "Requirement already satisfied: json-repair>=0.30.0 in /usr/local/lib/python3.11/dist-packages (from dspy) (0.46.2)\n",
            "Requirement already satisfied: tenacity>=8.2.3 in /usr/local/lib/python3.11/dist-packages (from dspy) (9.1.2)\n",
            "Requirement already satisfied: anyio in /usr/local/lib/python3.11/dist-packages (from dspy) (4.9.0)\n",
            "Requirement already satisfied: asyncer==0.0.8 in /usr/local/lib/python3.11/dist-packages (from dspy) (0.0.8)\n",
            "Requirement already satisfied: cachetools>=5.5.0 in /usr/local/lib/python3.11/dist-packages (from dspy) (5.5.2)\n",
            "Requirement already satisfied: cloudpickle>=3.0.0 in /usr/local/lib/python3.11/dist-packages (from dspy) (3.1.1)\n",
            "Requirement already satisfied: rich>=13.7.1 in /usr/local/lib/python3.11/dist-packages (from dspy) (13.9.4)\n",
            "Requirement already satisfied: numpy>=1.26.0 in /usr/local/lib/python3.11/dist-packages (from dspy) (2.3.0)\n",
            "Requirement already satisfied: idna>=2.8 in /usr/local/lib/python3.11/dist-packages (from anyio->dspy) (3.10)\n",
            "Requirement already satisfied: sniffio>=1.1 in /usr/local/lib/python3.11/dist-packages (from anyio->dspy) (1.3.1)\n",
            "Requirement already satisfied: typing_extensions>=4.5 in /usr/local/lib/python3.11/dist-packages (from anyio->dspy) (4.14.0)\n",
            "Requirement already satisfied: filelock in /usr/local/lib/python3.11/dist-packages (from datasets>=2.14.6->dspy) (3.18.0)\n",
            "Requirement already satisfied: pyarrow>=15.0.0 in /usr/local/lib/python3.11/dist-packages (from datasets>=2.14.6->dspy) (18.1.0)\n",
            "Requirement already satisfied: dill<0.3.9,>=0.3.0 in /usr/local/lib/python3.11/dist-packages (from datasets>=2.14.6->dspy) (0.3.7)\n",
            "Requirement already satisfied: xxhash in /usr/local/lib/python3.11/dist-packages (from datasets>=2.14.6->dspy) (3.5.0)\n",
            "Requirement already satisfied: multiprocess<0.70.17 in /usr/local/lib/python3.11/dist-packages (from datasets>=2.14.6->dspy) (0.70.15)\n",
            "Requirement already satisfied: fsspec<=2025.3.0,>=2023.1.0 in /usr/local/lib/python3.11/dist-packages (from fsspec[http]<=2025.3.0,>=2023.1.0->datasets>=2.14.6->dspy) (2025.3.0)\n",
            "Requirement already satisfied: huggingface-hub>=0.24.0 in /usr/local/lib/python3.11/dist-packages (from datasets>=2.14.6->dspy) (0.32.4)\n",
            "Requirement already satisfied: packaging in /usr/local/lib/python3.11/dist-packages (from datasets>=2.14.6->dspy) (24.2)\n",
            "Requirement already satisfied: pyyaml>=5.1 in /usr/local/lib/python3.11/dist-packages (from datasets>=2.14.6->dspy) (6.0.2)\n",
            "Requirement already satisfied: aiohttp in /usr/local/lib/python3.11/dist-packages (from litellm>=1.60.3->dspy) (3.11.15)\n",
            "Requirement already satisfied: click in /usr/local/lib/python3.11/dist-packages (from litellm>=1.60.3->dspy) (8.2.1)\n",
            "Requirement already satisfied: httpx>=0.23.0 in /usr/local/lib/python3.11/dist-packages (from litellm>=1.60.3->dspy) (0.28.1)\n",
            "Requirement already satisfied: importlib-metadata>=6.8.0 in /usr/local/lib/python3.11/dist-packages (from litellm>=1.60.3->dspy) (8.7.0)\n",
            "Requirement already satisfied: jinja2<4.0.0,>=3.1.2 in /usr/local/lib/python3.11/dist-packages (from litellm>=1.60.3->dspy) (3.1.6)\n",
            "Requirement already satisfied: jsonschema<5.0.0,>=4.22.0 in /usr/local/lib/python3.11/dist-packages (from litellm>=1.60.3->dspy) (4.24.0)\n",
            "Requirement already satisfied: python-dotenv>=0.2.0 in /usr/local/lib/python3.11/dist-packages (from litellm>=1.60.3->dspy) (1.1.0)\n",
            "Requirement already satisfied: tiktoken>=0.7.0 in /usr/local/lib/python3.11/dist-packages (from litellm>=1.60.3->dspy) (0.9.0)\n",
            "Requirement already satisfied: tokenizers in /usr/local/lib/python3.11/dist-packages (from litellm>=1.60.3->dspy) (0.21.1)\n",
            "Requirement already satisfied: distro<2,>=1.7.0 in /usr/local/lib/python3.11/dist-packages (from openai>=0.28.1->dspy) (1.9.0)\n",
            "Requirement already satisfied: jiter<1,>=0.4.0 in /usr/local/lib/python3.11/dist-packages (from openai>=0.28.1->dspy) (0.10.0)\n",
            "Requirement already satisfied: alembic>=1.5.0 in /usr/local/lib/python3.11/dist-packages (from optuna>=3.4.0->dspy) (1.16.1)\n",
            "Requirement already satisfied: colorlog in /usr/local/lib/python3.11/dist-packages (from optuna>=3.4.0->dspy) (6.9.0)\n",
            "Requirement already satisfied: sqlalchemy>=1.4.2 in /usr/local/lib/python3.11/dist-packages (from optuna>=3.4.0->dspy) (2.0.41)\n",
            "Requirement already satisfied: python-dateutil>=2.8.2 in /usr/local/lib/python3.11/dist-packages (from pandas>=2.1.1->dspy) (2.9.0.post0)\n",
            "Requirement already satisfied: pytz>=2020.1 in /usr/local/lib/python3.11/dist-packages (from pandas>=2.1.1->dspy) (2025.2)\n",
            "Requirement already satisfied: tzdata>=2022.7 in /usr/local/lib/python3.11/dist-packages (from pandas>=2.1.1->dspy) (2025.2)\n",
            "Requirement already satisfied: annotated-types>=0.6.0 in /usr/local/lib/python3.11/dist-packages (from pydantic>=2.0->dspy) (0.7.0)\n",
            "Requirement already satisfied: pydantic-core==2.33.2 in /usr/local/lib/python3.11/dist-packages (from pydantic>=2.0->dspy) (2.33.2)\n",
            "Requirement already satisfied: typing-inspection>=0.4.0 in /usr/local/lib/python3.11/dist-packages (from pydantic>=2.0->dspy) (0.4.1)\n",
            "Requirement already satisfied: charset-normalizer<4,>=2 in /usr/local/lib/python3.11/dist-packages (from requests>=2.31.0->dspy) (3.4.2)\n",
            "Requirement already satisfied: urllib3<3,>=1.21.1 in /usr/local/lib/python3.11/dist-packages (from requests>=2.31.0->dspy) (2.4.0)\n",
            "Requirement already satisfied: certifi>=2017.4.17 in /usr/local/lib/python3.11/dist-packages (from requests>=2.31.0->dspy) (2025.4.26)\n",
            "Requirement already satisfied: markdown-it-py>=2.2.0 in /usr/local/lib/python3.11/dist-packages (from rich>=13.7.1->dspy) (3.0.0)\n",
            "Requirement already satisfied: pygments<3.0.0,>=2.13.0 in /usr/local/lib/python3.11/dist-packages (from rich>=13.7.1->dspy) (2.19.1)\n",
            "Requirement already satisfied: Mako in /usr/lib/python3/dist-packages (from alembic>=1.5.0->optuna>=3.4.0->dspy) (1.1.3)\n",
            "Requirement already satisfied: aiohappyeyeballs>=2.3.0 in /usr/local/lib/python3.11/dist-packages (from aiohttp->litellm>=1.60.3->dspy) (2.6.1)\n",
            "Requirement already satisfied: aiosignal>=1.1.2 in /usr/local/lib/python3.11/dist-packages (from aiohttp->litellm>=1.60.3->dspy) (1.3.2)\n",
            "Requirement already satisfied: attrs>=17.3.0 in /usr/local/lib/python3.11/dist-packages (from aiohttp->litellm>=1.60.3->dspy) (25.3.0)\n",
            "Requirement already satisfied: frozenlist>=1.1.1 in /usr/local/lib/python3.11/dist-packages (from aiohttp->litellm>=1.60.3->dspy) (1.6.0)\n",
            "Requirement already satisfied: multidict<7.0,>=4.5 in /usr/local/lib/python3.11/dist-packages (from aiohttp->litellm>=1.60.3->dspy) (6.4.4)\n",
            "Requirement already satisfied: propcache>=0.2.0 in /usr/local/lib/python3.11/dist-packages (from aiohttp->litellm>=1.60.3->dspy) (0.3.1)\n",
            "Requirement already satisfied: yarl<2.0,>=1.17.0 in /usr/local/lib/python3.11/dist-packages (from aiohttp->litellm>=1.60.3->dspy) (1.20.0)\n",
            "Requirement already satisfied: httpcore==1.* in /usr/local/lib/python3.11/dist-packages (from httpx>=0.23.0->litellm>=1.60.3->dspy) (1.0.9)\n",
            "Requirement already satisfied: h11>=0.16 in /usr/local/lib/python3.11/dist-packages (from httpcore==1.*->httpx>=0.23.0->litellm>=1.60.3->dspy) (0.16.0)\n",
            "Requirement already satisfied: hf-xet<2.0.0,>=1.1.2 in /usr/local/lib/python3.11/dist-packages (from huggingface-hub>=0.24.0->datasets>=2.14.6->dspy) (1.1.2)\n",
            "Requirement already satisfied: zipp>=3.20 in /usr/local/lib/python3.11/dist-packages (from importlib-metadata>=6.8.0->litellm>=1.60.3->dspy) (3.22.0)\n",
            "Requirement already satisfied: MarkupSafe>=2.0 in /usr/local/lib/python3.11/dist-packages (from jinja2<4.0.0,>=3.1.2->litellm>=1.60.3->dspy) (3.0.2)\n",
            "Requirement already satisfied: jsonschema-specifications>=2023.03.6 in /usr/local/lib/python3.11/dist-packages (from jsonschema<5.0.0,>=4.22.0->litellm>=1.60.3->dspy) (2025.4.1)\n",
            "Requirement already satisfied: referencing>=0.28.4 in /usr/local/lib/python3.11/dist-packages (from jsonschema<5.0.0,>=4.22.0->litellm>=1.60.3->dspy) (0.36.2)\n",
            "Requirement already satisfied: rpds-py>=0.7.1 in /usr/local/lib/python3.11/dist-packages (from jsonschema<5.0.0,>=4.22.0->litellm>=1.60.3->dspy) (0.25.1)\n",
            "Requirement already satisfied: mdurl~=0.1 in /usr/local/lib/python3.11/dist-packages (from markdown-it-py>=2.2.0->rich>=13.7.1->dspy) (0.1.2)\n",
            "Requirement already satisfied: six>=1.5 in /usr/local/lib/python3.11/dist-packages (from python-dateutil>=2.8.2->pandas>=2.1.1->dspy) (1.17.0)\n",
            "Requirement already satisfied: greenlet>=1 in /usr/local/lib/python3.11/dist-packages (from sqlalchemy>=1.4.2->optuna>=3.4.0->dspy) (3.2.2)\n"
          ]
        }
      ],
      "source": [
        "!pip install dspy"
      ]
    },
    {
      "cell_type": "code",
      "source": [
        "!pip install dspy-ai numpy tqdm"
      ],
      "metadata": {
        "colab": {
          "base_uri": "https://localhost:8080/"
        },
        "id": "DXjQsa6bmZRf",
        "outputId": "1adf6471-7e88-4e67-b5b6-6dfe0b45bfc0"
      },
      "execution_count": null,
      "outputs": [
        {
          "output_type": "stream",
          "name": "stdout",
          "text": [
            "Requirement already satisfied: dspy-ai in /usr/local/lib/python3.11/dist-packages (2.6.27)\n",
            "Requirement already satisfied: numpy in /usr/local/lib/python3.11/dist-packages (2.3.0)\n",
            "Requirement already satisfied: tqdm in /usr/local/lib/python3.11/dist-packages (4.67.1)\n",
            "Requirement already satisfied: dspy>=2.6.5 in /usr/local/lib/python3.11/dist-packages (from dspy-ai) (2.6.27)\n",
            "Requirement already satisfied: backoff>=2.2 in /usr/local/lib/python3.11/dist-packages (from dspy>=2.6.5->dspy-ai) (2.2.1)\n",
            "Requirement already satisfied: joblib~=1.3 in /usr/local/lib/python3.11/dist-packages (from dspy>=2.6.5->dspy-ai) (1.5.1)\n",
            "Requirement already satisfied: openai>=0.28.1 in /usr/local/lib/python3.11/dist-packages (from dspy>=2.6.5->dspy-ai) (1.84.0)\n",
            "Requirement already satisfied: pandas>=2.1.1 in /usr/local/lib/python3.11/dist-packages (from dspy>=2.6.5->dspy-ai) (2.2.2)\n",
            "Requirement already satisfied: regex>=2023.10.3 in /usr/local/lib/python3.11/dist-packages (from dspy>=2.6.5->dspy-ai) (2024.11.6)\n",
            "Requirement already satisfied: ujson>=5.8.0 in /usr/local/lib/python3.11/dist-packages (from dspy>=2.6.5->dspy-ai) (5.10.0)\n",
            "Requirement already satisfied: datasets>=2.14.6 in /usr/local/lib/python3.11/dist-packages (from dspy>=2.6.5->dspy-ai) (3.6.0)\n",
            "Requirement already satisfied: requests>=2.31.0 in /usr/local/lib/python3.11/dist-packages (from dspy>=2.6.5->dspy-ai) (2.32.3)\n",
            "Requirement already satisfied: optuna>=3.4.0 in /usr/local/lib/python3.11/dist-packages (from dspy>=2.6.5->dspy-ai) (4.3.0)\n",
            "Requirement already satisfied: pydantic>=2.0 in /usr/local/lib/python3.11/dist-packages (from dspy>=2.6.5->dspy-ai) (2.11.5)\n",
            "Requirement already satisfied: magicattr>=0.1.6 in /usr/local/lib/python3.11/dist-packages (from dspy>=2.6.5->dspy-ai) (0.1.6)\n",
            "Requirement already satisfied: litellm>=1.60.3 in /usr/local/lib/python3.11/dist-packages (from dspy>=2.6.5->dspy-ai) (1.72.4)\n",
            "Requirement already satisfied: diskcache>=5.6.0 in /usr/local/lib/python3.11/dist-packages (from dspy>=2.6.5->dspy-ai) (5.6.3)\n",
            "Requirement already satisfied: json-repair>=0.30.0 in /usr/local/lib/python3.11/dist-packages (from dspy>=2.6.5->dspy-ai) (0.46.2)\n",
            "Requirement already satisfied: tenacity>=8.2.3 in /usr/local/lib/python3.11/dist-packages (from dspy>=2.6.5->dspy-ai) (9.1.2)\n",
            "Requirement already satisfied: anyio in /usr/local/lib/python3.11/dist-packages (from dspy>=2.6.5->dspy-ai) (4.9.0)\n",
            "Requirement already satisfied: asyncer==0.0.8 in /usr/local/lib/python3.11/dist-packages (from dspy>=2.6.5->dspy-ai) (0.0.8)\n",
            "Requirement already satisfied: cachetools>=5.5.0 in /usr/local/lib/python3.11/dist-packages (from dspy>=2.6.5->dspy-ai) (5.5.2)\n",
            "Requirement already satisfied: cloudpickle>=3.0.0 in /usr/local/lib/python3.11/dist-packages (from dspy>=2.6.5->dspy-ai) (3.1.1)\n",
            "Requirement already satisfied: rich>=13.7.1 in /usr/local/lib/python3.11/dist-packages (from dspy>=2.6.5->dspy-ai) (13.9.4)\n",
            "Requirement already satisfied: idna>=2.8 in /usr/local/lib/python3.11/dist-packages (from anyio->dspy>=2.6.5->dspy-ai) (3.10)\n",
            "Requirement already satisfied: sniffio>=1.1 in /usr/local/lib/python3.11/dist-packages (from anyio->dspy>=2.6.5->dspy-ai) (1.3.1)\n",
            "Requirement already satisfied: typing_extensions>=4.5 in /usr/local/lib/python3.11/dist-packages (from anyio->dspy>=2.6.5->dspy-ai) (4.14.0)\n",
            "Requirement already satisfied: filelock in /usr/local/lib/python3.11/dist-packages (from datasets>=2.14.6->dspy>=2.6.5->dspy-ai) (3.18.0)\n",
            "Requirement already satisfied: pyarrow>=15.0.0 in /usr/local/lib/python3.11/dist-packages (from datasets>=2.14.6->dspy>=2.6.5->dspy-ai) (18.1.0)\n",
            "Requirement already satisfied: dill<0.3.9,>=0.3.0 in /usr/local/lib/python3.11/dist-packages (from datasets>=2.14.6->dspy>=2.6.5->dspy-ai) (0.3.7)\n",
            "Requirement already satisfied: xxhash in /usr/local/lib/python3.11/dist-packages (from datasets>=2.14.6->dspy>=2.6.5->dspy-ai) (3.5.0)\n",
            "Requirement already satisfied: multiprocess<0.70.17 in /usr/local/lib/python3.11/dist-packages (from datasets>=2.14.6->dspy>=2.6.5->dspy-ai) (0.70.15)\n",
            "Requirement already satisfied: fsspec<=2025.3.0,>=2023.1.0 in /usr/local/lib/python3.11/dist-packages (from fsspec[http]<=2025.3.0,>=2023.1.0->datasets>=2.14.6->dspy>=2.6.5->dspy-ai) (2025.3.0)\n",
            "Requirement already satisfied: huggingface-hub>=0.24.0 in /usr/local/lib/python3.11/dist-packages (from datasets>=2.14.6->dspy>=2.6.5->dspy-ai) (0.32.4)\n",
            "Requirement already satisfied: packaging in /usr/local/lib/python3.11/dist-packages (from datasets>=2.14.6->dspy>=2.6.5->dspy-ai) (24.2)\n",
            "Requirement already satisfied: pyyaml>=5.1 in /usr/local/lib/python3.11/dist-packages (from datasets>=2.14.6->dspy>=2.6.5->dspy-ai) (6.0.2)\n",
            "Requirement already satisfied: aiohttp in /usr/local/lib/python3.11/dist-packages (from litellm>=1.60.3->dspy>=2.6.5->dspy-ai) (3.11.15)\n",
            "Requirement already satisfied: click in /usr/local/lib/python3.11/dist-packages (from litellm>=1.60.3->dspy>=2.6.5->dspy-ai) (8.2.1)\n",
            "Requirement already satisfied: httpx>=0.23.0 in /usr/local/lib/python3.11/dist-packages (from litellm>=1.60.3->dspy>=2.6.5->dspy-ai) (0.28.1)\n",
            "Requirement already satisfied: importlib-metadata>=6.8.0 in /usr/local/lib/python3.11/dist-packages (from litellm>=1.60.3->dspy>=2.6.5->dspy-ai) (8.7.0)\n",
            "Requirement already satisfied: jinja2<4.0.0,>=3.1.2 in /usr/local/lib/python3.11/dist-packages (from litellm>=1.60.3->dspy>=2.6.5->dspy-ai) (3.1.6)\n",
            "Requirement already satisfied: jsonschema<5.0.0,>=4.22.0 in /usr/local/lib/python3.11/dist-packages (from litellm>=1.60.3->dspy>=2.6.5->dspy-ai) (4.24.0)\n",
            "Requirement already satisfied: python-dotenv>=0.2.0 in /usr/local/lib/python3.11/dist-packages (from litellm>=1.60.3->dspy>=2.6.5->dspy-ai) (1.1.0)\n",
            "Requirement already satisfied: tiktoken>=0.7.0 in /usr/local/lib/python3.11/dist-packages (from litellm>=1.60.3->dspy>=2.6.5->dspy-ai) (0.9.0)\n",
            "Requirement already satisfied: tokenizers in /usr/local/lib/python3.11/dist-packages (from litellm>=1.60.3->dspy>=2.6.5->dspy-ai) (0.21.1)\n",
            "Requirement already satisfied: distro<2,>=1.7.0 in /usr/local/lib/python3.11/dist-packages (from openai>=0.28.1->dspy>=2.6.5->dspy-ai) (1.9.0)\n",
            "Requirement already satisfied: jiter<1,>=0.4.0 in /usr/local/lib/python3.11/dist-packages (from openai>=0.28.1->dspy>=2.6.5->dspy-ai) (0.10.0)\n",
            "Requirement already satisfied: alembic>=1.5.0 in /usr/local/lib/python3.11/dist-packages (from optuna>=3.4.0->dspy>=2.6.5->dspy-ai) (1.16.1)\n",
            "Requirement already satisfied: colorlog in /usr/local/lib/python3.11/dist-packages (from optuna>=3.4.0->dspy>=2.6.5->dspy-ai) (6.9.0)\n",
            "Requirement already satisfied: sqlalchemy>=1.4.2 in /usr/local/lib/python3.11/dist-packages (from optuna>=3.4.0->dspy>=2.6.5->dspy-ai) (2.0.41)\n",
            "Requirement already satisfied: python-dateutil>=2.8.2 in /usr/local/lib/python3.11/dist-packages (from pandas>=2.1.1->dspy>=2.6.5->dspy-ai) (2.9.0.post0)\n",
            "Requirement already satisfied: pytz>=2020.1 in /usr/local/lib/python3.11/dist-packages (from pandas>=2.1.1->dspy>=2.6.5->dspy-ai) (2025.2)\n",
            "Requirement already satisfied: tzdata>=2022.7 in /usr/local/lib/python3.11/dist-packages (from pandas>=2.1.1->dspy>=2.6.5->dspy-ai) (2025.2)\n",
            "Requirement already satisfied: annotated-types>=0.6.0 in /usr/local/lib/python3.11/dist-packages (from pydantic>=2.0->dspy>=2.6.5->dspy-ai) (0.7.0)\n",
            "Requirement already satisfied: pydantic-core==2.33.2 in /usr/local/lib/python3.11/dist-packages (from pydantic>=2.0->dspy>=2.6.5->dspy-ai) (2.33.2)\n",
            "Requirement already satisfied: typing-inspection>=0.4.0 in /usr/local/lib/python3.11/dist-packages (from pydantic>=2.0->dspy>=2.6.5->dspy-ai) (0.4.1)\n",
            "Requirement already satisfied: charset-normalizer<4,>=2 in /usr/local/lib/python3.11/dist-packages (from requests>=2.31.0->dspy>=2.6.5->dspy-ai) (3.4.2)\n",
            "Requirement already satisfied: urllib3<3,>=1.21.1 in /usr/local/lib/python3.11/dist-packages (from requests>=2.31.0->dspy>=2.6.5->dspy-ai) (2.4.0)\n",
            "Requirement already satisfied: certifi>=2017.4.17 in /usr/local/lib/python3.11/dist-packages (from requests>=2.31.0->dspy>=2.6.5->dspy-ai) (2025.4.26)\n",
            "Requirement already satisfied: markdown-it-py>=2.2.0 in /usr/local/lib/python3.11/dist-packages (from rich>=13.7.1->dspy>=2.6.5->dspy-ai) (3.0.0)\n",
            "Requirement already satisfied: pygments<3.0.0,>=2.13.0 in /usr/local/lib/python3.11/dist-packages (from rich>=13.7.1->dspy>=2.6.5->dspy-ai) (2.19.1)\n",
            "Requirement already satisfied: Mako in /usr/lib/python3/dist-packages (from alembic>=1.5.0->optuna>=3.4.0->dspy>=2.6.5->dspy-ai) (1.1.3)\n",
            "Requirement already satisfied: aiohappyeyeballs>=2.3.0 in /usr/local/lib/python3.11/dist-packages (from aiohttp->litellm>=1.60.3->dspy>=2.6.5->dspy-ai) (2.6.1)\n",
            "Requirement already satisfied: aiosignal>=1.1.2 in /usr/local/lib/python3.11/dist-packages (from aiohttp->litellm>=1.60.3->dspy>=2.6.5->dspy-ai) (1.3.2)\n",
            "Requirement already satisfied: attrs>=17.3.0 in /usr/local/lib/python3.11/dist-packages (from aiohttp->litellm>=1.60.3->dspy>=2.6.5->dspy-ai) (25.3.0)\n",
            "Requirement already satisfied: frozenlist>=1.1.1 in /usr/local/lib/python3.11/dist-packages (from aiohttp->litellm>=1.60.3->dspy>=2.6.5->dspy-ai) (1.6.0)\n",
            "Requirement already satisfied: multidict<7.0,>=4.5 in /usr/local/lib/python3.11/dist-packages (from aiohttp->litellm>=1.60.3->dspy>=2.6.5->dspy-ai) (6.4.4)\n",
            "Requirement already satisfied: propcache>=0.2.0 in /usr/local/lib/python3.11/dist-packages (from aiohttp->litellm>=1.60.3->dspy>=2.6.5->dspy-ai) (0.3.1)\n",
            "Requirement already satisfied: yarl<2.0,>=1.17.0 in /usr/local/lib/python3.11/dist-packages (from aiohttp->litellm>=1.60.3->dspy>=2.6.5->dspy-ai) (1.20.0)\n",
            "Requirement already satisfied: httpcore==1.* in /usr/local/lib/python3.11/dist-packages (from httpx>=0.23.0->litellm>=1.60.3->dspy>=2.6.5->dspy-ai) (1.0.9)\n",
            "Requirement already satisfied: h11>=0.16 in /usr/local/lib/python3.11/dist-packages (from httpcore==1.*->httpx>=0.23.0->litellm>=1.60.3->dspy>=2.6.5->dspy-ai) (0.16.0)\n",
            "Requirement already satisfied: hf-xet<2.0.0,>=1.1.2 in /usr/local/lib/python3.11/dist-packages (from huggingface-hub>=0.24.0->datasets>=2.14.6->dspy>=2.6.5->dspy-ai) (1.1.2)\n",
            "Requirement already satisfied: zipp>=3.20 in /usr/local/lib/python3.11/dist-packages (from importlib-metadata>=6.8.0->litellm>=1.60.3->dspy>=2.6.5->dspy-ai) (3.22.0)\n",
            "Requirement already satisfied: MarkupSafe>=2.0 in /usr/local/lib/python3.11/dist-packages (from jinja2<4.0.0,>=3.1.2->litellm>=1.60.3->dspy>=2.6.5->dspy-ai) (3.0.2)\n",
            "Requirement already satisfied: jsonschema-specifications>=2023.03.6 in /usr/local/lib/python3.11/dist-packages (from jsonschema<5.0.0,>=4.22.0->litellm>=1.60.3->dspy>=2.6.5->dspy-ai) (2025.4.1)\n",
            "Requirement already satisfied: referencing>=0.28.4 in /usr/local/lib/python3.11/dist-packages (from jsonschema<5.0.0,>=4.22.0->litellm>=1.60.3->dspy>=2.6.5->dspy-ai) (0.36.2)\n",
            "Requirement already satisfied: rpds-py>=0.7.1 in /usr/local/lib/python3.11/dist-packages (from jsonschema<5.0.0,>=4.22.0->litellm>=1.60.3->dspy>=2.6.5->dspy-ai) (0.25.1)\n",
            "Requirement already satisfied: mdurl~=0.1 in /usr/local/lib/python3.11/dist-packages (from markdown-it-py>=2.2.0->rich>=13.7.1->dspy>=2.6.5->dspy-ai) (0.1.2)\n",
            "Requirement already satisfied: six>=1.5 in /usr/local/lib/python3.11/dist-packages (from python-dateutil>=2.8.2->pandas>=2.1.1->dspy>=2.6.5->dspy-ai) (1.17.0)\n",
            "Requirement already satisfied: greenlet>=1 in /usr/local/lib/python3.11/dist-packages (from sqlalchemy>=1.4.2->optuna>=3.4.0->dspy>=2.6.5->dspy-ai) (3.2.2)\n"
          ]
        }
      ]
    },
    {
      "cell_type": "code",
      "source": [
        "!pip install --upgrade dspy-ai numpy tqdm"
      ],
      "metadata": {
        "colab": {
          "base_uri": "https://localhost:8080/"
        },
        "id": "aadAamJImo6S",
        "outputId": "500a79fc-92d7-4465-f326-dee8bda9d0a3"
      },
      "execution_count": null,
      "outputs": [
        {
          "output_type": "stream",
          "name": "stdout",
          "text": [
            "Requirement already satisfied: dspy-ai in /usr/local/lib/python3.11/dist-packages (2.6.27)\n",
            "Requirement already satisfied: numpy in /usr/local/lib/python3.11/dist-packages (2.3.0)\n",
            "Requirement already satisfied: tqdm in /usr/local/lib/python3.11/dist-packages (4.67.1)\n",
            "Requirement already satisfied: dspy>=2.6.5 in /usr/local/lib/python3.11/dist-packages (from dspy-ai) (2.6.27)\n",
            "Requirement already satisfied: backoff>=2.2 in /usr/local/lib/python3.11/dist-packages (from dspy>=2.6.5->dspy-ai) (2.2.1)\n",
            "Requirement already satisfied: joblib~=1.3 in /usr/local/lib/python3.11/dist-packages (from dspy>=2.6.5->dspy-ai) (1.5.1)\n",
            "Requirement already satisfied: openai>=0.28.1 in /usr/local/lib/python3.11/dist-packages (from dspy>=2.6.5->dspy-ai) (1.84.0)\n",
            "Requirement already satisfied: pandas>=2.1.1 in /usr/local/lib/python3.11/dist-packages (from dspy>=2.6.5->dspy-ai) (2.2.2)\n",
            "Requirement already satisfied: regex>=2023.10.3 in /usr/local/lib/python3.11/dist-packages (from dspy>=2.6.5->dspy-ai) (2024.11.6)\n",
            "Requirement already satisfied: ujson>=5.8.0 in /usr/local/lib/python3.11/dist-packages (from dspy>=2.6.5->dspy-ai) (5.10.0)\n",
            "Requirement already satisfied: datasets>=2.14.6 in /usr/local/lib/python3.11/dist-packages (from dspy>=2.6.5->dspy-ai) (3.6.0)\n",
            "Requirement already satisfied: requests>=2.31.0 in /usr/local/lib/python3.11/dist-packages (from dspy>=2.6.5->dspy-ai) (2.32.3)\n",
            "Requirement already satisfied: optuna>=3.4.0 in /usr/local/lib/python3.11/dist-packages (from dspy>=2.6.5->dspy-ai) (4.3.0)\n",
            "Requirement already satisfied: pydantic>=2.0 in /usr/local/lib/python3.11/dist-packages (from dspy>=2.6.5->dspy-ai) (2.11.5)\n",
            "Requirement already satisfied: magicattr>=0.1.6 in /usr/local/lib/python3.11/dist-packages (from dspy>=2.6.5->dspy-ai) (0.1.6)\n",
            "Requirement already satisfied: litellm>=1.60.3 in /usr/local/lib/python3.11/dist-packages (from dspy>=2.6.5->dspy-ai) (1.72.4)\n",
            "Requirement already satisfied: diskcache>=5.6.0 in /usr/local/lib/python3.11/dist-packages (from dspy>=2.6.5->dspy-ai) (5.6.3)\n",
            "Requirement already satisfied: json-repair>=0.30.0 in /usr/local/lib/python3.11/dist-packages (from dspy>=2.6.5->dspy-ai) (0.46.2)\n",
            "Requirement already satisfied: tenacity>=8.2.3 in /usr/local/lib/python3.11/dist-packages (from dspy>=2.6.5->dspy-ai) (9.1.2)\n",
            "Requirement already satisfied: anyio in /usr/local/lib/python3.11/dist-packages (from dspy>=2.6.5->dspy-ai) (4.9.0)\n",
            "Requirement already satisfied: asyncer==0.0.8 in /usr/local/lib/python3.11/dist-packages (from dspy>=2.6.5->dspy-ai) (0.0.8)\n",
            "Requirement already satisfied: cachetools>=5.5.0 in /usr/local/lib/python3.11/dist-packages (from dspy>=2.6.5->dspy-ai) (5.5.2)\n",
            "Requirement already satisfied: cloudpickle>=3.0.0 in /usr/local/lib/python3.11/dist-packages (from dspy>=2.6.5->dspy-ai) (3.1.1)\n",
            "Requirement already satisfied: rich>=13.7.1 in /usr/local/lib/python3.11/dist-packages (from dspy>=2.6.5->dspy-ai) (13.9.4)\n",
            "Requirement already satisfied: idna>=2.8 in /usr/local/lib/python3.11/dist-packages (from anyio->dspy>=2.6.5->dspy-ai) (3.10)\n",
            "Requirement already satisfied: sniffio>=1.1 in /usr/local/lib/python3.11/dist-packages (from anyio->dspy>=2.6.5->dspy-ai) (1.3.1)\n",
            "Requirement already satisfied: typing_extensions>=4.5 in /usr/local/lib/python3.11/dist-packages (from anyio->dspy>=2.6.5->dspy-ai) (4.14.0)\n",
            "Requirement already satisfied: filelock in /usr/local/lib/python3.11/dist-packages (from datasets>=2.14.6->dspy>=2.6.5->dspy-ai) (3.18.0)\n",
            "Requirement already satisfied: pyarrow>=15.0.0 in /usr/local/lib/python3.11/dist-packages (from datasets>=2.14.6->dspy>=2.6.5->dspy-ai) (18.1.0)\n",
            "Requirement already satisfied: dill<0.3.9,>=0.3.0 in /usr/local/lib/python3.11/dist-packages (from datasets>=2.14.6->dspy>=2.6.5->dspy-ai) (0.3.7)\n",
            "Requirement already satisfied: xxhash in /usr/local/lib/python3.11/dist-packages (from datasets>=2.14.6->dspy>=2.6.5->dspy-ai) (3.5.0)\n",
            "Requirement already satisfied: multiprocess<0.70.17 in /usr/local/lib/python3.11/dist-packages (from datasets>=2.14.6->dspy>=2.6.5->dspy-ai) (0.70.15)\n",
            "Requirement already satisfied: fsspec<=2025.3.0,>=2023.1.0 in /usr/local/lib/python3.11/dist-packages (from fsspec[http]<=2025.3.0,>=2023.1.0->datasets>=2.14.6->dspy>=2.6.5->dspy-ai) (2025.3.0)\n",
            "Requirement already satisfied: huggingface-hub>=0.24.0 in /usr/local/lib/python3.11/dist-packages (from datasets>=2.14.6->dspy>=2.6.5->dspy-ai) (0.32.4)\n",
            "Requirement already satisfied: packaging in /usr/local/lib/python3.11/dist-packages (from datasets>=2.14.6->dspy>=2.6.5->dspy-ai) (24.2)\n",
            "Requirement already satisfied: pyyaml>=5.1 in /usr/local/lib/python3.11/dist-packages (from datasets>=2.14.6->dspy>=2.6.5->dspy-ai) (6.0.2)\n",
            "Requirement already satisfied: aiohttp in /usr/local/lib/python3.11/dist-packages (from litellm>=1.60.3->dspy>=2.6.5->dspy-ai) (3.11.15)\n",
            "Requirement already satisfied: click in /usr/local/lib/python3.11/dist-packages (from litellm>=1.60.3->dspy>=2.6.5->dspy-ai) (8.2.1)\n",
            "Requirement already satisfied: httpx>=0.23.0 in /usr/local/lib/python3.11/dist-packages (from litellm>=1.60.3->dspy>=2.6.5->dspy-ai) (0.28.1)\n",
            "Requirement already satisfied: importlib-metadata>=6.8.0 in /usr/local/lib/python3.11/dist-packages (from litellm>=1.60.3->dspy>=2.6.5->dspy-ai) (8.7.0)\n",
            "Requirement already satisfied: jinja2<4.0.0,>=3.1.2 in /usr/local/lib/python3.11/dist-packages (from litellm>=1.60.3->dspy>=2.6.5->dspy-ai) (3.1.6)\n",
            "Requirement already satisfied: jsonschema<5.0.0,>=4.22.0 in /usr/local/lib/python3.11/dist-packages (from litellm>=1.60.3->dspy>=2.6.5->dspy-ai) (4.24.0)\n",
            "Requirement already satisfied: python-dotenv>=0.2.0 in /usr/local/lib/python3.11/dist-packages (from litellm>=1.60.3->dspy>=2.6.5->dspy-ai) (1.1.0)\n",
            "Requirement already satisfied: tiktoken>=0.7.0 in /usr/local/lib/python3.11/dist-packages (from litellm>=1.60.3->dspy>=2.6.5->dspy-ai) (0.9.0)\n",
            "Requirement already satisfied: tokenizers in /usr/local/lib/python3.11/dist-packages (from litellm>=1.60.3->dspy>=2.6.5->dspy-ai) (0.21.1)\n",
            "Requirement already satisfied: distro<2,>=1.7.0 in /usr/local/lib/python3.11/dist-packages (from openai>=0.28.1->dspy>=2.6.5->dspy-ai) (1.9.0)\n",
            "Requirement already satisfied: jiter<1,>=0.4.0 in /usr/local/lib/python3.11/dist-packages (from openai>=0.28.1->dspy>=2.6.5->dspy-ai) (0.10.0)\n",
            "Requirement already satisfied: alembic>=1.5.0 in /usr/local/lib/python3.11/dist-packages (from optuna>=3.4.0->dspy>=2.6.5->dspy-ai) (1.16.1)\n",
            "Requirement already satisfied: colorlog in /usr/local/lib/python3.11/dist-packages (from optuna>=3.4.0->dspy>=2.6.5->dspy-ai) (6.9.0)\n",
            "Requirement already satisfied: sqlalchemy>=1.4.2 in /usr/local/lib/python3.11/dist-packages (from optuna>=3.4.0->dspy>=2.6.5->dspy-ai) (2.0.41)\n",
            "Requirement already satisfied: python-dateutil>=2.8.2 in /usr/local/lib/python3.11/dist-packages (from pandas>=2.1.1->dspy>=2.6.5->dspy-ai) (2.9.0.post0)\n",
            "Requirement already satisfied: pytz>=2020.1 in /usr/local/lib/python3.11/dist-packages (from pandas>=2.1.1->dspy>=2.6.5->dspy-ai) (2025.2)\n",
            "Requirement already satisfied: tzdata>=2022.7 in /usr/local/lib/python3.11/dist-packages (from pandas>=2.1.1->dspy>=2.6.5->dspy-ai) (2025.2)\n",
            "Requirement already satisfied: annotated-types>=0.6.0 in /usr/local/lib/python3.11/dist-packages (from pydantic>=2.0->dspy>=2.6.5->dspy-ai) (0.7.0)\n",
            "Requirement already satisfied: pydantic-core==2.33.2 in /usr/local/lib/python3.11/dist-packages (from pydantic>=2.0->dspy>=2.6.5->dspy-ai) (2.33.2)\n",
            "Requirement already satisfied: typing-inspection>=0.4.0 in /usr/local/lib/python3.11/dist-packages (from pydantic>=2.0->dspy>=2.6.5->dspy-ai) (0.4.1)\n",
            "Requirement already satisfied: charset-normalizer<4,>=2 in /usr/local/lib/python3.11/dist-packages (from requests>=2.31.0->dspy>=2.6.5->dspy-ai) (3.4.2)\n",
            "Requirement already satisfied: urllib3<3,>=1.21.1 in /usr/local/lib/python3.11/dist-packages (from requests>=2.31.0->dspy>=2.6.5->dspy-ai) (2.4.0)\n",
            "Requirement already satisfied: certifi>=2017.4.17 in /usr/local/lib/python3.11/dist-packages (from requests>=2.31.0->dspy>=2.6.5->dspy-ai) (2025.4.26)\n",
            "Requirement already satisfied: markdown-it-py>=2.2.0 in /usr/local/lib/python3.11/dist-packages (from rich>=13.7.1->dspy>=2.6.5->dspy-ai) (3.0.0)\n",
            "Requirement already satisfied: pygments<3.0.0,>=2.13.0 in /usr/local/lib/python3.11/dist-packages (from rich>=13.7.1->dspy>=2.6.5->dspy-ai) (2.19.1)\n",
            "Requirement already satisfied: Mako in /usr/lib/python3/dist-packages (from alembic>=1.5.0->optuna>=3.4.0->dspy>=2.6.5->dspy-ai) (1.1.3)\n",
            "Requirement already satisfied: aiohappyeyeballs>=2.3.0 in /usr/local/lib/python3.11/dist-packages (from aiohttp->litellm>=1.60.3->dspy>=2.6.5->dspy-ai) (2.6.1)\n",
            "Requirement already satisfied: aiosignal>=1.1.2 in /usr/local/lib/python3.11/dist-packages (from aiohttp->litellm>=1.60.3->dspy>=2.6.5->dspy-ai) (1.3.2)\n",
            "Requirement already satisfied: attrs>=17.3.0 in /usr/local/lib/python3.11/dist-packages (from aiohttp->litellm>=1.60.3->dspy>=2.6.5->dspy-ai) (25.3.0)\n",
            "Requirement already satisfied: frozenlist>=1.1.1 in /usr/local/lib/python3.11/dist-packages (from aiohttp->litellm>=1.60.3->dspy>=2.6.5->dspy-ai) (1.6.0)\n",
            "Requirement already satisfied: multidict<7.0,>=4.5 in /usr/local/lib/python3.11/dist-packages (from aiohttp->litellm>=1.60.3->dspy>=2.6.5->dspy-ai) (6.4.4)\n",
            "Requirement already satisfied: propcache>=0.2.0 in /usr/local/lib/python3.11/dist-packages (from aiohttp->litellm>=1.60.3->dspy>=2.6.5->dspy-ai) (0.3.1)\n",
            "Requirement already satisfied: yarl<2.0,>=1.17.0 in /usr/local/lib/python3.11/dist-packages (from aiohttp->litellm>=1.60.3->dspy>=2.6.5->dspy-ai) (1.20.0)\n",
            "Requirement already satisfied: httpcore==1.* in /usr/local/lib/python3.11/dist-packages (from httpx>=0.23.0->litellm>=1.60.3->dspy>=2.6.5->dspy-ai) (1.0.9)\n",
            "Requirement already satisfied: h11>=0.16 in /usr/local/lib/python3.11/dist-packages (from httpcore==1.*->httpx>=0.23.0->litellm>=1.60.3->dspy>=2.6.5->dspy-ai) (0.16.0)\n",
            "Requirement already satisfied: hf-xet<2.0.0,>=1.1.2 in /usr/local/lib/python3.11/dist-packages (from huggingface-hub>=0.24.0->datasets>=2.14.6->dspy>=2.6.5->dspy-ai) (1.1.2)\n",
            "Requirement already satisfied: zipp>=3.20 in /usr/local/lib/python3.11/dist-packages (from importlib-metadata>=6.8.0->litellm>=1.60.3->dspy>=2.6.5->dspy-ai) (3.22.0)\n",
            "Requirement already satisfied: MarkupSafe>=2.0 in /usr/local/lib/python3.11/dist-packages (from jinja2<4.0.0,>=3.1.2->litellm>=1.60.3->dspy>=2.6.5->dspy-ai) (3.0.2)\n",
            "Requirement already satisfied: jsonschema-specifications>=2023.03.6 in /usr/local/lib/python3.11/dist-packages (from jsonschema<5.0.0,>=4.22.0->litellm>=1.60.3->dspy>=2.6.5->dspy-ai) (2025.4.1)\n",
            "Requirement already satisfied: referencing>=0.28.4 in /usr/local/lib/python3.11/dist-packages (from jsonschema<5.0.0,>=4.22.0->litellm>=1.60.3->dspy>=2.6.5->dspy-ai) (0.36.2)\n",
            "Requirement already satisfied: rpds-py>=0.7.1 in /usr/local/lib/python3.11/dist-packages (from jsonschema<5.0.0,>=4.22.0->litellm>=1.60.3->dspy>=2.6.5->dspy-ai) (0.25.1)\n",
            "Requirement already satisfied: mdurl~=0.1 in /usr/local/lib/python3.11/dist-packages (from markdown-it-py>=2.2.0->rich>=13.7.1->dspy>=2.6.5->dspy-ai) (0.1.2)\n",
            "Requirement already satisfied: six>=1.5 in /usr/local/lib/python3.11/dist-packages (from python-dateutil>=2.8.2->pandas>=2.1.1->dspy>=2.6.5->dspy-ai) (1.17.0)\n",
            "Requirement already satisfied: greenlet>=1 in /usr/local/lib/python3.11/dist-packages (from sqlalchemy>=1.4.2->optuna>=3.4.0->dspy>=2.6.5->dspy-ai) (3.2.2)\n"
          ]
        }
      ]
    },
    {
      "cell_type": "code",
      "source": [
        "import dspy\n",
        "import random\n",
        "import numpy as np\n",
        "from typing import List\n",
        "from dspy.teleprompt import MIPROv2\n",
        "from tqdm import tqdm\n",
        "\n",
        "print(\"所有包已成功导入!\")"
      ],
      "metadata": {
        "colab": {
          "base_uri": "https://localhost:8080/"
        },
        "id": "N7cSfIDimqzw",
        "outputId": "c54a8bdd-275e-4660-df00-7737caf92bb6"
      },
      "execution_count": null,
      "outputs": [
        {
          "output_type": "stream",
          "name": "stdout",
          "text": [
            "所有包已成功导入!\n"
          ]
        }
      ]
    },
    {
      "cell_type": "code",
      "source": [
        "import dspy\n",
        "import random\n",
        "import numpy as np\n",
        "from typing import List\n",
        "from tqdm import tqdm\n",
        "import re\n",
        "from dspy.teleprompt import MIPROv2\n",
        "\n",
        "class MultiplicationSignature(dspy.Signature):\n",
        "    \"\"\"Solve multiplication problems step by step.\"\"\"\n",
        "    task = dspy.InputField(desc=\"multiplication task as a string\")\n",
        "    solution = dspy.OutputField(desc=\"final solution as a number\")\n",
        "\n",
        "class MultiplicationSolver(dspy.Module):\n",
        "    def __init__(self):\n",
        "        super().__init__()\n",
        "        self.generate_answer = dspy.ChainOfThought(MultiplicationSignature)\n",
        "\n",
        "    def forward(self, task):\n",
        "        return self.generate_answer(task=task)\n",
        "\n",
        "def generate_multiplication_dataset(num_samples=1000) -> List[dspy.Example]:\n",
        "    \"\"\"Generate multiplication problems with solutions.\"\"\"\n",
        "    dataset = []\n",
        "    for _ in range(num_samples):\n",
        "        max_num = int(1e5)\n",
        "        a = random.randint(1, max_num)\n",
        "        b = random.randint(1, max_num)\n",
        "        task = f\"{a} * {b}\"\n",
        "        solution = a * b\n",
        "        dataset.append(dspy.Example(task=task, solution=solution).with_inputs('task'))\n",
        "    return dataset\n",
        "\n",
        "def extract_number_from_solution(solution_text):\n",
        "    \"\"\"从解决方案文本中提取数字\"\"\"\n",
        "    # 尝试不同的模式来提取数字\n",
        "    patterns = [\n",
        "        r'(\\d+(?:,\\d+)*)\\s*$',  # 结尾的数字（可能有逗号）\n",
        "        r'=\\s*(\\d+(?:,\\d+)*)',  # 等号后的数字\n",
        "        r'answer\\s*is\\s*(\\d+(?:,\\d+)*)',  # \"answer is\" 后的数字\n",
        "        r'result\\s*is\\s*(\\d+(?:,\\d+)*)',  # \"result is\" 后的数字\n",
        "        r'(\\d+(?:,\\d+)*)',  # 任何数字\n",
        "    ]\n",
        "\n",
        "    solution_str = str(solution_text).strip()\n",
        "\n",
        "    for pattern in patterns:\n",
        "        matches = re.findall(pattern, solution_str, re.IGNORECASE)\n",
        "        if matches:\n",
        "            # 取最后一个匹配（通常是最终答案）\n",
        "            number_str = matches[-1].replace(',', '')\n",
        "            try:\n",
        "                return float(number_str)\n",
        "            except ValueError:\n",
        "                continue\n",
        "\n",
        "    # 如果所有模式都失败，尝试直接转换\n",
        "    try:\n",
        "        return float(solution_str.replace(',', ''))\n",
        "    except ValueError:\n",
        "        # 如果仍然失败，返回 None\n",
        "        return None\n",
        "\n",
        "def evaluate_multiplication(example, prediction, trace=None):\n",
        "    \"\"\"Evaluate if predicted solution matches expected.\"\"\"\n",
        "    try:\n",
        "        # 从预测结果中提取数字\n",
        "        pred_num = extract_number_from_solution(prediction.solution)\n",
        "        if pred_num is None:\n",
        "            return 0\n",
        "\n",
        "        exp = float(example.solution)\n",
        "        return int(abs(pred_num - exp) < 0.01)\n",
        "    except Exception as e:\n",
        "        print(f\"评估错误: {e}, 预测: {prediction.solution}\")\n",
        "        return 0\n",
        "\n",
        "class LLMProgram(dspy.Module):\n",
        "    def __init__(self):\n",
        "        super().__init__()\n",
        "        self.solver = dspy.ChainOfThought('task -> solution')\n",
        "\n",
        "    def forward(self, task):\n",
        "        return self.solver(task=task)\n",
        "\n",
        "def quick_optimize():\n",
        "    # 配置语言模型\n",
        "    dspy.settings.configure(\n",
        "        lm=dspy.LM(\n",
        "            model=\"deepseek/deepseek-chat\",\n",
        "            api_key=\"sk-74c8da577a104fa78356b151d7a5536d\"\n",
        "        )\n",
        "    )\n",
        "\n",
        "    # 生成数据集（使用较小的数字范围以避免计算错误）\n",
        "    dataset = [\n",
        "        dspy.Example(task=f\"{a}*{b}\", solution=a*b).with_inputs('task')\n",
        "        for a, b in zip(\n",
        "            np.random.randint(1000, 10000, 100),  # 减少样本数量和数字大小\n",
        "            np.random.randint(1000, 10000, 100)\n",
        "        )\n",
        "    ]\n",
        "\n",
        "    train, val = dataset[:80], dataset[80:]  # 80/20 split\n",
        "\n",
        "    # 使用修复的评估函数\n",
        "    def safe_metric(e, p, trace=None):\n",
        "        return evaluate_multiplication(e, p, trace)\n",
        "\n",
        "    print(\"开始优化...\")\n",
        "\n",
        "    # 创建并编译程序\n",
        "    llm_program = LLMProgram()\n",
        "\n",
        "    try:\n",
        "        compiled_llm_program = MIPROv2(\n",
        "            metric=safe_metric,\n",
        "            num_threads=10,  # 减少线程数\n",
        "            auto='light'     # 使用较轻的优化设置，会自动设置其他参数\n",
        "        ).compile(\n",
        "            llm_program,\n",
        "            trainset=train,\n",
        "            valset=val,\n",
        "            requires_permission_to_run=False\n",
        "        )\n",
        "\n",
        "        # 评估优化后的模型\n",
        "        correct = 0\n",
        "        total = len(val)\n",
        "        for example in tqdm(val, desc=\"评估优化后的模型\"):\n",
        "            try:\n",
        "                prediction = compiled_llm_program(example.task)\n",
        "                correct += safe_metric(example, prediction)\n",
        "            except Exception as e:\n",
        "                print(f\"预测错误: {e}\")\n",
        "                continue\n",
        "\n",
        "        accuracy = correct / total\n",
        "        print(f\"优化后准确率: {accuracy:.1%}\")\n",
        "\n",
        "    except Exception as e:\n",
        "        print(f\"优化过程出错: {e}\")\n",
        "        return None\n",
        "\n",
        "    # 评估未优化的模型\n",
        "    print(\"评估未优化的模型...\")\n",
        "    student = MultiplicationSolver()\n",
        "    correct = 0\n",
        "    total = len(val)\n",
        "\n",
        "    for example in tqdm(val, desc=\"评估未优化的模型\"):\n",
        "        try:\n",
        "            prediction = student(example.task)\n",
        "            correct += safe_metric(example, prediction)\n",
        "        except Exception as e:\n",
        "            print(f\"未优化模型预测错误: {e}\")\n",
        "            continue\n",
        "\n",
        "    accuracy = correct / total\n",
        "    print(f\"未优化准确率: {accuracy:.1%}\")\n",
        "\n",
        "    return compiled_llm_program"
      ],
      "metadata": {
        "id": "2SwIPjhKm9qo"
      },
      "execution_count": null,
      "outputs": []
    },
    {
      "cell_type": "code",
      "source": [
        "quick_optimize()"
      ],
      "metadata": {
        "colab": {
          "base_uri": "https://localhost:8080/"
        },
        "id": "vFmsUGI_m_2m",
        "outputId": "9d887f62-9041-4efe-c972-73ba2001f04d"
      },
      "execution_count": null,
      "outputs": [
        {
          "output_type": "stream",
          "name": "stderr",
          "text": [
            "2025/06/13 04:51:35 INFO dspy.teleprompt.mipro_optimizer_v2: \n",
            "RUNNING WITH THE FOLLOWING LIGHT AUTO RUN SETTINGS:\n",
            "num_trials: 10\n",
            "minibatch: False\n",
            "num_fewshot_candidates: 6\n",
            "num_instruct_candidates: 3\n",
            "valset size: 20\n",
            "\n",
            "2025/06/13 04:51:35 INFO dspy.teleprompt.mipro_optimizer_v2: \n",
            "==> STEP 1: BOOTSTRAP FEWSHOT EXAMPLES <==\n",
            "2025/06/13 04:51:35 INFO dspy.teleprompt.mipro_optimizer_v2: These will be used as few-shot example candidates for our program and for creating instructions.\n",
            "\n",
            "2025/06/13 04:51:35 INFO dspy.teleprompt.mipro_optimizer_v2: Bootstrapping N=6 sets of demonstrations...\n"
          ]
        },
        {
          "output_type": "stream",
          "name": "stdout",
          "text": [
            "开始优化...\n",
            "Bootstrapping set 1/6\n",
            "Bootstrapping set 2/6\n",
            "Bootstrapping set 3/6\n"
          ]
        },
        {
          "output_type": "stream",
          "name": "stderr",
          "text": [
            "  6%|▋         | 5/80 [01:19<19:46, 15.81s/it]\n"
          ]
        },
        {
          "output_type": "stream",
          "name": "stdout",
          "text": [
            "Bootstrapped 4 full traces after 5 examples for up to 1 rounds, amounting to 5 attempts.\n",
            "Bootstrapping set 4/6\n"
          ]
        },
        {
          "output_type": "stream",
          "name": "stderr",
          "text": [
            "  1%|▏         | 1/80 [00:15<19:55, 15.13s/it]\n"
          ]
        },
        {
          "output_type": "stream",
          "name": "stdout",
          "text": [
            "Bootstrapped 1 full traces after 1 examples for up to 1 rounds, amounting to 1 attempts.\n",
            "Bootstrapping set 5/6\n"
          ]
        },
        {
          "output_type": "stream",
          "name": "stderr",
          "text": [
            "  5%|▌         | 4/80 [00:51<16:16, 12.85s/it]\n"
          ]
        },
        {
          "output_type": "stream",
          "name": "stdout",
          "text": [
            "Bootstrapped 3 full traces after 4 examples for up to 1 rounds, amounting to 4 attempts.\n",
            "Bootstrapping set 6/6\n"
          ]
        },
        {
          "output_type": "stream",
          "name": "stderr",
          "text": [
            "  6%|▋         | 5/80 [01:19<19:45, 15.81s/it]\n",
            "2025/06/13 04:55:20 INFO dspy.teleprompt.mipro_optimizer_v2: \n",
            "==> STEP 2: PROPOSE INSTRUCTION CANDIDATES <==\n",
            "2025/06/13 04:55:20 INFO dspy.teleprompt.mipro_optimizer_v2: We will use the few-shot examples from the previous step, a generated dataset summary, a summary of the program code, and a randomly selected prompting tip to propose instructions.\n"
          ]
        },
        {
          "output_type": "stream",
          "name": "stdout",
          "text": [
            "Bootstrapped 4 full traces after 5 examples for up to 1 rounds, amounting to 5 attempts.\n"
          ]
        },
        {
          "output_type": "stream",
          "name": "stderr",
          "text": [
            "2025/06/13 04:57:00 INFO dspy.teleprompt.mipro_optimizer_v2: \n",
            "Proposing N=3 instructions...\n",
            "\n",
            "2025/06/13 04:59:16 INFO dspy.teleprompt.mipro_optimizer_v2: Proposed Instructions for Predictor 0:\n",
            "\n",
            "2025/06/13 04:59:16 INFO dspy.teleprompt.mipro_optimizer_v2: 0: Given the fields `task`, produce the fields `solution`.\n",
            "\n",
            "2025/06/13 04:59:16 INFO dspy.teleprompt.mipro_optimizer_v2: 1: Given a four-digit multiplication task in the format \"A*B\", provide a detailed step-by-step breakdown of the multiplication process (reasoning) and the final computed solution. \n",
            "\n",
            "For the reasoning, use the standard multiplication method: \n",
            "1. Break down the multiplication by each digit of the second number (B), starting from the rightmost digit (units place) to the leftmost digit (thousands place). \n",
            "2. For each digit, multiply it by the first number (A), adjusting for place value by adding the appropriate number of zeros (e.g., tens place = add one zero, hundreds place = add two zeros, etc.). \n",
            "3. Clearly label each partial product with its corresponding place value. \n",
            "4. Sum all the partial products to arrive at the final solution. \n",
            "\n",
            "Ensure all calculations are accurate and explicitly shown. Format your response as follows:\n",
            "- **Reasoning:** [Step-by-step breakdown]\n",
            "- **Solution:** [Final computed answer]\n",
            "\n",
            "Example:\n",
            "Task: 5240*7061\n",
            "Reasoning: Let's think step by step in order to multiply 5240 by 7061...\n",
            "1. Multiply 5240 by 1 (units place): 5240 × 1 = 5240  \n",
            "2. Multiply 5240 by 60 (tens place): 5240 × 60 = 314400  \n",
            "3. Multiply 5240 by 0 (hundreds place): 5240 × 0 = 0  \n",
            "4. Multiply 5240 by 7000 (thousands place): 5240 × 7000 = 36680000  \n",
            "5. Sum partial results: 5240 + 314400 + 0 + 36680000 = 36999640  \n",
            "Solution: 36999640\n",
            "\n",
            "2025/06/13 04:59:16 INFO dspy.teleprompt.mipro_optimizer_v2: 2: Your task is to solve a critical four-digit multiplication problem under high-stakes conditions where precision is paramount. The result will be used to verify the integrity of a financial transaction worth millions. Given the input `task` (a multiplication problem in the format 'A*B'), you must produce two outputs: \n",
            "\n",
            "1. `reasoning`: A detailed, step-by-step breakdown of how you solve the problem, ensuring each intermediate calculation is accurate and clearly justified. This is crucial for auditing purposes.\n",
            "2. `solution`: The exact final answer, which must be correct to prevent significant financial loss.\n",
            "\n",
            "Use the standard multiplication method, breaking down the problem into partial products (e.g., multiplying by each digit of the second number, adjusting for place value, and summing the results). Double-check each step to guarantee no errors are made. The stakes are high—failure is not an option.\n",
            "\n",
            "2025/06/13 04:59:16 INFO dspy.teleprompt.mipro_optimizer_v2: \n",
            "\n",
            "2025/06/13 04:59:16 INFO dspy.teleprompt.mipro_optimizer_v2: ==> STEP 3: FINDING OPTIMAL PROMPT PARAMETERS <==\n",
            "2025/06/13 04:59:16 INFO dspy.teleprompt.mipro_optimizer_v2: We will evaluate the program over a series of trials with different combinations of instructions and few-shot examples to find the optimal combination using Bayesian Optimization.\n",
            "\n",
            "2025/06/13 04:59:16 INFO dspy.teleprompt.mipro_optimizer_v2: == Trial 1 / 10 - Full Evaluation of Default Program ==\n"
          ]
        },
        {
          "output_type": "stream",
          "name": "stdout",
          "text": [
            "Average Metric: 20.00 / 20 (100.0%): 100%|██████████| 20/20 [00:42<00:00,  2.11s/it]"
          ]
        },
        {
          "output_type": "stream",
          "name": "stderr",
          "text": [
            "2025/06/13 04:59:59 INFO dspy.evaluate.evaluate: Average Metric: 20 / 20 (100.0%)\n",
            "2025/06/13 04:59:59 INFO dspy.teleprompt.mipro_optimizer_v2: Default program score: 100.0\n",
            "\n",
            "/usr/local/lib/python3.11/dist-packages/optuna/_experimental.py:31: ExperimentalWarning: Argument ``multivariate`` is an experimental feature. The interface can change in the future.\n",
            "  warnings.warn(\n",
            "2025/06/13 04:59:59 INFO dspy.teleprompt.mipro_optimizer_v2: ===== Trial 2 / 10 =====\n"
          ]
        },
        {
          "output_type": "stream",
          "name": "stdout",
          "text": [
            "\n",
            "Average Metric: 19.00 / 20 (95.0%): 100%|██████████| 20/20 [00:29<00:00,  1.48s/it]"
          ]
        },
        {
          "output_type": "stream",
          "name": "stderr",
          "text": [
            "2025/06/13 05:00:28 INFO dspy.evaluate.evaluate: Average Metric: 19 / 20 (95.0%)\n",
            "2025/06/13 05:00:28 INFO dspy.teleprompt.mipro_optimizer_v2: Score: 95.0 with parameters ['Predictor 0: Instruction 1', 'Predictor 0: Few-Shot Set 3'].\n",
            "2025/06/13 05:00:28 INFO dspy.teleprompt.mipro_optimizer_v2: Scores so far: [100.0, 95.0]\n",
            "2025/06/13 05:00:28 INFO dspy.teleprompt.mipro_optimizer_v2: Best score so far: 100.0\n",
            "2025/06/13 05:00:28 INFO dspy.teleprompt.mipro_optimizer_v2: ========================\n",
            "\n",
            "\n",
            "2025/06/13 05:00:28 INFO dspy.teleprompt.mipro_optimizer_v2: ===== Trial 3 / 10 =====\n"
          ]
        },
        {
          "output_type": "stream",
          "name": "stdout",
          "text": [
            "\n",
            "Average Metric: 20.00 / 20 (100.0%): 100%|██████████| 20/20 [01:25<00:00,  4.25s/it]"
          ]
        },
        {
          "output_type": "stream",
          "name": "stderr",
          "text": [
            "2025/06/13 05:01:54 INFO dspy.evaluate.evaluate: Average Metric: 20 / 20 (100.0%)\n",
            "2025/06/13 05:01:54 INFO dspy.teleprompt.mipro_optimizer_v2: Score: 100.0 with parameters ['Predictor 0: Instruction 2', 'Predictor 0: Few-Shot Set 0'].\n",
            "2025/06/13 05:01:54 INFO dspy.teleprompt.mipro_optimizer_v2: Scores so far: [100.0, 95.0, 100.0]\n",
            "2025/06/13 05:01:54 INFO dspy.teleprompt.mipro_optimizer_v2: Best score so far: 100.0\n",
            "2025/06/13 05:01:54 INFO dspy.teleprompt.mipro_optimizer_v2: ========================\n",
            "\n",
            "\n",
            "2025/06/13 05:01:54 INFO dspy.teleprompt.mipro_optimizer_v2: ===== Trial 4 / 10 =====\n"
          ]
        },
        {
          "output_type": "stream",
          "name": "stdout",
          "text": [
            "\n",
            "Average Metric: 20.00 / 20 (100.0%): 100%|██████████| 20/20 [00:33<00:00,  1.66s/it]"
          ]
        },
        {
          "output_type": "stream",
          "name": "stderr",
          "text": [
            "2025/06/13 05:02:27 INFO dspy.evaluate.evaluate: Average Metric: 20 / 20 (100.0%)\n",
            "2025/06/13 05:02:27 INFO dspy.teleprompt.mipro_optimizer_v2: Score: 100.0 with parameters ['Predictor 0: Instruction 1', 'Predictor 0: Few-Shot Set 5'].\n",
            "2025/06/13 05:02:27 INFO dspy.teleprompt.mipro_optimizer_v2: Scores so far: [100.0, 95.0, 100.0, 100.0]\n",
            "2025/06/13 05:02:27 INFO dspy.teleprompt.mipro_optimizer_v2: Best score so far: 100.0\n",
            "2025/06/13 05:02:27 INFO dspy.teleprompt.mipro_optimizer_v2: ========================\n",
            "\n",
            "\n",
            "2025/06/13 05:02:27 INFO dspy.teleprompt.mipro_optimizer_v2: ===== Trial 5 / 10 =====\n"
          ]
        },
        {
          "output_type": "stream",
          "name": "stdout",
          "text": [
            "\n",
            "Average Metric: 19.00 / 20 (95.0%): 100%|██████████| 20/20 [00:33<00:00,  1.69s/it]"
          ]
        },
        {
          "output_type": "stream",
          "name": "stderr",
          "text": [
            "2025/06/13 05:03:01 INFO dspy.evaluate.evaluate: Average Metric: 19 / 20 (95.0%)\n",
            "2025/06/13 05:03:01 INFO dspy.teleprompt.mipro_optimizer_v2: Score: 95.0 with parameters ['Predictor 0: Instruction 2', 'Predictor 0: Few-Shot Set 2'].\n",
            "2025/06/13 05:03:01 INFO dspy.teleprompt.mipro_optimizer_v2: Scores so far: [100.0, 95.0, 100.0, 100.0, 95.0]\n",
            "2025/06/13 05:03:01 INFO dspy.teleprompt.mipro_optimizer_v2: Best score so far: 100.0\n",
            "2025/06/13 05:03:01 INFO dspy.teleprompt.mipro_optimizer_v2: ========================\n",
            "\n",
            "\n",
            "2025/06/13 05:03:01 INFO dspy.teleprompt.mipro_optimizer_v2: ===== Trial 6 / 10 =====\n"
          ]
        },
        {
          "output_type": "stream",
          "name": "stdout",
          "text": [
            "\n",
            "Average Metric: 20.00 / 20 (100.0%): 100%|██████████| 20/20 [00:39<00:00,  1.99s/it]"
          ]
        },
        {
          "output_type": "stream",
          "name": "stderr",
          "text": [
            "2025/06/13 05:03:40 INFO dspy.evaluate.evaluate: Average Metric: 20 / 20 (100.0%)\n",
            "2025/06/13 05:03:40 INFO dspy.teleprompt.mipro_optimizer_v2: Score: 100.0 with parameters ['Predictor 0: Instruction 0', 'Predictor 0: Few-Shot Set 5'].\n",
            "2025/06/13 05:03:41 INFO dspy.teleprompt.mipro_optimizer_v2: Scores so far: [100.0, 95.0, 100.0, 100.0, 95.0, 100.0]\n",
            "2025/06/13 05:03:41 INFO dspy.teleprompt.mipro_optimizer_v2: Best score so far: 100.0\n",
            "2025/06/13 05:03:41 INFO dspy.teleprompt.mipro_optimizer_v2: ========================\n",
            "\n",
            "\n",
            "2025/06/13 05:03:41 INFO dspy.teleprompt.mipro_optimizer_v2: ===== Trial 7 / 10 =====\n"
          ]
        },
        {
          "output_type": "stream",
          "name": "stdout",
          "text": [
            "\n",
            "Average Metric: 20.00 / 20 (100.0%): 100%|██████████| 20/20 [00:00<00:00, 1704.59it/s]"
          ]
        },
        {
          "output_type": "stream",
          "name": "stderr",
          "text": [
            "2025/06/13 05:03:41 INFO dspy.evaluate.evaluate: Average Metric: 20 / 20 (100.0%)\n",
            "2025/06/13 05:03:41 INFO dspy.teleprompt.mipro_optimizer_v2: Score: 100.0 with parameters ['Predictor 0: Instruction 2', 'Predictor 0: Few-Shot Set 0'].\n",
            "2025/06/13 05:03:41 INFO dspy.teleprompt.mipro_optimizer_v2: Scores so far: [100.0, 95.0, 100.0, 100.0, 95.0, 100.0, 100.0]\n",
            "2025/06/13 05:03:41 INFO dspy.teleprompt.mipro_optimizer_v2: Best score so far: 100.0\n",
            "2025/06/13 05:03:41 INFO dspy.teleprompt.mipro_optimizer_v2: ========================\n",
            "\n",
            "\n",
            "2025/06/13 05:03:41 INFO dspy.teleprompt.mipro_optimizer_v2: ===== Trial 8 / 10 =====\n"
          ]
        },
        {
          "output_type": "stream",
          "name": "stdout",
          "text": [
            "\n",
            "Average Metric: 20.00 / 20 (100.0%): 100%|██████████| 20/20 [00:48<00:00,  2.41s/it]"
          ]
        },
        {
          "output_type": "stream",
          "name": "stderr",
          "text": [
            "2025/06/13 05:04:29 INFO dspy.evaluate.evaluate: Average Metric: 20 / 20 (100.0%)\n",
            "2025/06/13 05:04:29 INFO dspy.teleprompt.mipro_optimizer_v2: Score: 100.0 with parameters ['Predictor 0: Instruction 2', 'Predictor 0: Few-Shot Set 5'].\n",
            "2025/06/13 05:04:29 INFO dspy.teleprompt.mipro_optimizer_v2: Scores so far: [100.0, 95.0, 100.0, 100.0, 95.0, 100.0, 100.0, 100.0]\n",
            "2025/06/13 05:04:29 INFO dspy.teleprompt.mipro_optimizer_v2: Best score so far: 100.0\n",
            "2025/06/13 05:04:29 INFO dspy.teleprompt.mipro_optimizer_v2: ========================\n",
            "\n",
            "\n",
            "2025/06/13 05:04:29 INFO dspy.teleprompt.mipro_optimizer_v2: ===== Trial 9 / 10 =====\n"
          ]
        },
        {
          "output_type": "stream",
          "name": "stdout",
          "text": [
            "\n",
            "Average Metric: 20.00 / 20 (100.0%): 100%|██████████| 20/20 [00:32<00:00,  1.65s/it]"
          ]
        },
        {
          "output_type": "stream",
          "name": "stderr",
          "text": [
            "2025/06/13 05:05:02 INFO dspy.evaluate.evaluate: Average Metric: 20 / 20 (100.0%)\n",
            "2025/06/13 05:05:02 INFO dspy.teleprompt.mipro_optimizer_v2: Score: 100.0 with parameters ['Predictor 0: Instruction 1', 'Predictor 0: Few-Shot Set 4'].\n",
            "2025/06/13 05:05:02 INFO dspy.teleprompt.mipro_optimizer_v2: Scores so far: [100.0, 95.0, 100.0, 100.0, 95.0, 100.0, 100.0, 100.0, 100.0]\n",
            "2025/06/13 05:05:02 INFO dspy.teleprompt.mipro_optimizer_v2: Best score so far: 100.0\n",
            "2025/06/13 05:05:02 INFO dspy.teleprompt.mipro_optimizer_v2: ========================\n",
            "\n",
            "\n",
            "2025/06/13 05:05:02 INFO dspy.teleprompt.mipro_optimizer_v2: ===== Trial 10 / 10 =====\n"
          ]
        },
        {
          "output_type": "stream",
          "name": "stdout",
          "text": [
            "\n",
            "Average Metric: 20.00 / 20 (100.0%): 100%|██████████| 20/20 [00:00<00:00, 1050.65it/s]"
          ]
        },
        {
          "output_type": "stream",
          "name": "stderr",
          "text": [
            "2025/06/13 05:05:02 INFO dspy.evaluate.evaluate: Average Metric: 20 / 20 (100.0%)\n",
            "2025/06/13 05:05:02 INFO dspy.teleprompt.mipro_optimizer_v2: Score: 100.0 with parameters ['Predictor 0: Instruction 2', 'Predictor 0: Few-Shot Set 5'].\n",
            "2025/06/13 05:05:02 INFO dspy.teleprompt.mipro_optimizer_v2: Scores so far: [100.0, 95.0, 100.0, 100.0, 95.0, 100.0, 100.0, 100.0, 100.0, 100.0]\n",
            "2025/06/13 05:05:02 INFO dspy.teleprompt.mipro_optimizer_v2: Best score so far: 100.0\n",
            "2025/06/13 05:05:02 INFO dspy.teleprompt.mipro_optimizer_v2: =========================\n",
            "\n",
            "\n",
            "2025/06/13 05:05:02 INFO dspy.teleprompt.mipro_optimizer_v2: ===== Trial 11 / 10 =====\n"
          ]
        },
        {
          "output_type": "stream",
          "name": "stdout",
          "text": [
            "\n",
            "Average Metric: 20.00 / 20 (100.0%): 100%|██████████| 20/20 [00:00<00:00, 2081.49it/s]"
          ]
        },
        {
          "output_type": "stream",
          "name": "stderr",
          "text": [
            "2025/06/13 05:05:02 INFO dspy.evaluate.evaluate: Average Metric: 20 / 20 (100.0%)\n",
            "2025/06/13 05:05:02 INFO dspy.teleprompt.mipro_optimizer_v2: Score: 100.0 with parameters ['Predictor 0: Instruction 0', 'Predictor 0: Few-Shot Set 0'].\n",
            "2025/06/13 05:05:02 INFO dspy.teleprompt.mipro_optimizer_v2: Scores so far: [100.0, 95.0, 100.0, 100.0, 95.0, 100.0, 100.0, 100.0, 100.0, 100.0, 100.0]\n",
            "2025/06/13 05:05:02 INFO dspy.teleprompt.mipro_optimizer_v2: Best score so far: 100.0\n",
            "2025/06/13 05:05:02 INFO dspy.teleprompt.mipro_optimizer_v2: =========================\n",
            "\n",
            "\n",
            "2025/06/13 05:05:02 INFO dspy.teleprompt.mipro_optimizer_v2: Returning best identified program with score 100.0!\n"
          ]
        },
        {
          "output_type": "stream",
          "name": "stdout",
          "text": [
            "\n"
          ]
        },
        {
          "output_type": "stream",
          "name": "stderr",
          "text": [
            "评估优化后的模型: 100%|██████████| 20/20 [00:00<00:00, 1102.40it/s]\n"
          ]
        },
        {
          "output_type": "stream",
          "name": "stdout",
          "text": [
            "优化后准确率: 100.0%\n",
            "评估未优化的模型...\n"
          ]
        },
        {
          "output_type": "stream",
          "name": "stderr",
          "text": [
            "评估未优化的模型: 100%|██████████| 20/20 [06:13<00:00, 18.69s/it]"
          ]
        },
        {
          "output_type": "stream",
          "name": "stdout",
          "text": [
            "未优化准确率: 100.0%\n"
          ]
        },
        {
          "output_type": "stream",
          "name": "stderr",
          "text": [
            "\n"
          ]
        },
        {
          "output_type": "execute_result",
          "data": {
            "text/plain": [
              "solver.predict = Predict(StringSignature(task -> reasoning, solution\n",
              "    instructions='Given the fields `task`, produce the fields `solution`.'\n",
              "    task = Field(annotation=str required=True json_schema_extra={'__dspy_field_type': 'input', 'prefix': 'Task:', 'desc': '${task}'})\n",
              "    reasoning = Field(annotation=str required=True json_schema_extra={'prefix': \"Reasoning: Let's think step by step in order to\", 'desc': '${reasoning}', '__dspy_field_type': 'output'})\n",
              "    solution = Field(annotation=str required=True json_schema_extra={'__dspy_field_type': 'output', 'prefix': 'Solution:', 'desc': '${solution}'})\n",
              "))"
            ]
          },
          "metadata": {},
          "execution_count": 13
        }
      ]
    },
    {
      "cell_type": "markdown",
      "source": [
        "# 新段落"
      ],
      "metadata": {
        "id": "VxHKUKT4eiqq"
      }
    },
    {
      "cell_type": "code",
      "source": [],
      "metadata": {
        "id": "JbNzHIvLnc1U"
      },
      "execution_count": null,
      "outputs": []
    }
  ]
}